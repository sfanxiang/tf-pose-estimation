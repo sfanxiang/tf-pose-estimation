{
 "cells": [
  {
   "cell_type": "code",
   "execution_count": null,
   "metadata": {},
   "outputs": [],
   "source": [
    "import time\n",
    "\n",
    "import cv2\n",
    "import numpy as np\n",
    "from matplotlib import pyplot as plt\n",
    "\n",
    "from common import coco_part_list\n",
    "from estimator import TfPoseEstimator\n",
    "from networks import get_graph_path, model_wh"
   ]
  },
  {
   "cell_type": "code",
   "execution_count": null,
   "metadata": {},
   "outputs": [],
   "source": [
    "fps_time = 0\n",
    "\n",
    "count = 0\n",
    "\n",
    "if __name__ == '__main__':\n",
    "    args = {'camera': 0, 'zoom': 1.0, 'resolution': '256x144', 'model': 'mobilenet_thin', 'show-process': False,\n",
    "            'magnify': 1.0}\n",
    "\n",
    "    w, h = model_wh(args['resolution'])\n",
    "    e = TfPoseEstimator(get_graph_path(args['model']), target_size=(w, h))\n",
    "    \n",
    "    cam = cv2.VideoCapture(args['camera'])\n",
    "        \n",
    "    try:\n",
    "        ret_val, image = cam.read()\n",
    "\n",
    "        while True:\n",
    "            ret_val, image = cam.read()\n",
    "\n",
    "            if args['zoom'] < 1.0:\n",
    "                canvas = np.zeros_like(image)\n",
    "                img_scaled = cv2.resize(image, None, fx=args['zoom'], fy=args['zoom'], interpolation=cv2.INTER_LINEAR)\n",
    "                dx = (canvas.shape[1] - img_scaled.shape[1]) // 2\n",
    "                dy = (canvas.shape[0] - img_scaled.shape[0]) // 2\n",
    "                canvas[dy:dy + img_scaled.shape[0], dx:dx + img_scaled.shape[1]] = img_scaled\n",
    "                image = canvas\n",
    "            elif args['zoom'] > 1.0:\n",
    "                img_scaled = cv2.resize(image, None, fx=args['zoom'], fy=args['zoom'], interpolation=cv2.INTER_LINEAR)\n",
    "                dx = (img_scaled.shape[1] - image.shape[1]) // 2\n",
    "                dy = (img_scaled.shape[0] - image.shape[0]) // 2\n",
    "                image = img_scaled[dy:image.shape[0], dx:image.shape[1]]\n",
    "\n",
    "            humans = e.inference(image)\n",
    "            if humans:\n",
    "                for _, x in humans[0].body_parts.items():\n",
    "                    print('(%r, %r): %r, %r' % (x.x, x.y, coco_part_list[x.part_idx], x.score))\n",
    "                print()\n",
    "            \n",
    "            image = TfPoseEstimator.draw_humans(image, humans, imgcopy=False)\n",
    "\n",
    "            cv2.putText(image,\n",
    "                        \"FPS: %f\" % (1.0 / (time.time() - fps_time)),\n",
    "                        (10, 10),  cv2.FONT_HERSHEY_SIMPLEX, 0.5,\n",
    "                        (0, 255, 0), 2)\n",
    "            image = cv2.resize(image, None, fx=args['magnify'], fy=args['magnify'],\n",
    "                               interpolation=cv2.INTER_LINEAR)\n",
    "            cv2.imshow('Pose Estimation', image)\n",
    "            \n",
    "            fps_time = time.time()\n",
    "            if cv2.waitKey(1) == 27:\n",
    "                break\n",
    "                \n",
    "            count += 1\n",
    "            if count > 50:\n",
    "                break\n",
    "\n",
    "    finally:\n",
    "        cv2.destroyAllWindows()\n",
    "        cam.release()"
   ]
  },
  {
   "cell_type": "code",
   "execution_count": null,
   "metadata": {},
   "outputs": [],
   "source": []
  }
 ],
 "metadata": {
  "kernelspec": {
   "display_name": "Python 3",
   "language": "python",
   "name": "python3"
  },
  "language_info": {
   "codemirror_mode": {
    "name": "ipython",
    "version": 3
   },
   "file_extension": ".py",
   "mimetype": "text/x-python",
   "name": "python",
   "nbconvert_exporter": "python",
   "pygments_lexer": "ipython3",
   "version": "3.6.5"
  }
 },
 "nbformat": 4,
 "nbformat_minor": 2
}
